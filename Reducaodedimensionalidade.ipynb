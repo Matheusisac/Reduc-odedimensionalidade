{
  "nbformat": 4,
  "nbformat_minor": 0,
  "metadata": {
    "colab": {
      "name": "ProjetoDIO.ipynb",
      "provenance": [],
      "collapsed_sections": []
    },
    "kernelspec": {
      "name": "python3",
      "display_name": "Python 3"
    },
    "language_info": {
      "name": "python"
    }
  },
  "cells": [
    {
      "cell_type": "code",
      "source": [
        "import numpy as np\n",
        "import matplotlib.pyplot as plt\n",
        "\n",
        "img = plt.imread('imagem.jpeg')\n",
        "plt.imshow(img)"
      ],
      "metadata": {
        "id": "sYwvXcyrR5j0"
      },
      "execution_count": null,
      "outputs": []
    },
    {
      "cell_type": "markdown",
      "source": [
        "Escala de Cinza"
      ],
      "metadata": {
        "id": "wUIrkhAs-kZT"
      }
    },
    {
      "cell_type": "code",
      "execution_count": null,
      "metadata": {
        "id": "aQovT-EBP4pZ"
      },
      "outputs": [],
      "source": [
        "plt.xticks([],[])\n",
        "plt.yticks([],[])\n",
        "plt.imshow(img[:,:,0], cmap='gray')"
      ]
    },
    {
      "cell_type": "markdown",
      "source": [
        "Preto e Branco"
      ],
      "metadata": {
        "id": "JD9qztQ2-ful"
      }
    },
    {
      "cell_type": "code",
      "source": [
        "plt.xticks([],[])\n",
        "plt.yticks([],[])\n",
        "plt.imshow(img[:,:,0], cmap = 'binary')"
      ],
      "metadata": {
        "id": "Ay9Qsy1YSQ_6"
      },
      "execution_count": null,
      "outputs": []
    }
  ]
}